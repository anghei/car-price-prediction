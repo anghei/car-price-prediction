{
  "nbformat": 4,
  "nbformat_minor": 0,
  "metadata": {
    "colab": {
      "name": "Prediction Price of Cars.ipynb",
      "provenance": [],
      "collapsed_sections": []
    },
    "kernelspec": {
      "name": "python3",
      "display_name": "Python 3"
    },
    "language_info": {
      "name": "python"
    }
  },
  "cells": [
    {
      "cell_type": "code",
      "source": [
        "import pandas as pd\n",
        "import matplotlib.pyplot as plt\n",
        "from catboost import CatBoostRegressor\n",
        "\n",
        "from sklearn.model_selection import train_test_split\n",
        "from sklearn.metrics import mean_absolute_error, mean_absolute_percentage_error"
      ],
      "metadata": {
        "id": "NsFddIATcTwu"
      },
      "execution_count": null,
      "outputs": []
    },
    {
      "cell_type": "code",
      "source": [
        "df = pd.read_csv('ford.csv')"
      ],
      "metadata": {
        "id": "W1CwMSgwcnjx"
      },
      "execution_count": null,
      "outputs": []
    },
    {
      "cell_type": "code",
      "source": [
        "df.head()"
      ],
      "metadata": {
        "colab": {
          "base_uri": "https://localhost:8080/",
          "height": 206
        },
        "id": "VKCfVUInc4Fr",
        "outputId": "f0e294f0-97d9-42d4-b3cc-672c6230cb6d"
      },
      "execution_count": null,
      "outputs": [
        {
          "output_type": "execute_result",
          "data": {
            "text/plain": [
              "     model  year  price transmission  mileage fuelType  tax   mpg  engineSize\n",
              "0   Fiesta  2017  12000    Automatic    15944   Petrol  150  57.7         1.0\n",
              "1    Focus  2018  14000       Manual     9083   Petrol  150  57.7         1.0\n",
              "2    Focus  2017  13000       Manual    12456   Petrol  150  57.7         1.0\n",
              "3   Fiesta  2019  17500       Manual    10460   Petrol  145  40.3         1.5\n",
              "4   Fiesta  2019  16500    Automatic     1482   Petrol  145  48.7         1.0"
            ],
            "text/html": [
              "\n",
              "  <div id=\"df-b6f1d8af-14bb-4afc-84b5-e16483cc6dd6\">\n",
              "    <div class=\"colab-df-container\">\n",
              "      <div>\n",
              "<style scoped>\n",
              "    .dataframe tbody tr th:only-of-type {\n",
              "        vertical-align: middle;\n",
              "    }\n",
              "\n",
              "    .dataframe tbody tr th {\n",
              "        vertical-align: top;\n",
              "    }\n",
              "\n",
              "    .dataframe thead th {\n",
              "        text-align: right;\n",
              "    }\n",
              "</style>\n",
              "<table border=\"1\" class=\"dataframe\">\n",
              "  <thead>\n",
              "    <tr style=\"text-align: right;\">\n",
              "      <th></th>\n",
              "      <th>model</th>\n",
              "      <th>year</th>\n",
              "      <th>price</th>\n",
              "      <th>transmission</th>\n",
              "      <th>mileage</th>\n",
              "      <th>fuelType</th>\n",
              "      <th>tax</th>\n",
              "      <th>mpg</th>\n",
              "      <th>engineSize</th>\n",
              "    </tr>\n",
              "  </thead>\n",
              "  <tbody>\n",
              "    <tr>\n",
              "      <th>0</th>\n",
              "      <td>Fiesta</td>\n",
              "      <td>2017</td>\n",
              "      <td>12000</td>\n",
              "      <td>Automatic</td>\n",
              "      <td>15944</td>\n",
              "      <td>Petrol</td>\n",
              "      <td>150</td>\n",
              "      <td>57.7</td>\n",
              "      <td>1.0</td>\n",
              "    </tr>\n",
              "    <tr>\n",
              "      <th>1</th>\n",
              "      <td>Focus</td>\n",
              "      <td>2018</td>\n",
              "      <td>14000</td>\n",
              "      <td>Manual</td>\n",
              "      <td>9083</td>\n",
              "      <td>Petrol</td>\n",
              "      <td>150</td>\n",
              "      <td>57.7</td>\n",
              "      <td>1.0</td>\n",
              "    </tr>\n",
              "    <tr>\n",
              "      <th>2</th>\n",
              "      <td>Focus</td>\n",
              "      <td>2017</td>\n",
              "      <td>13000</td>\n",
              "      <td>Manual</td>\n",
              "      <td>12456</td>\n",
              "      <td>Petrol</td>\n",
              "      <td>150</td>\n",
              "      <td>57.7</td>\n",
              "      <td>1.0</td>\n",
              "    </tr>\n",
              "    <tr>\n",
              "      <th>3</th>\n",
              "      <td>Fiesta</td>\n",
              "      <td>2019</td>\n",
              "      <td>17500</td>\n",
              "      <td>Manual</td>\n",
              "      <td>10460</td>\n",
              "      <td>Petrol</td>\n",
              "      <td>145</td>\n",
              "      <td>40.3</td>\n",
              "      <td>1.5</td>\n",
              "    </tr>\n",
              "    <tr>\n",
              "      <th>4</th>\n",
              "      <td>Fiesta</td>\n",
              "      <td>2019</td>\n",
              "      <td>16500</td>\n",
              "      <td>Automatic</td>\n",
              "      <td>1482</td>\n",
              "      <td>Petrol</td>\n",
              "      <td>145</td>\n",
              "      <td>48.7</td>\n",
              "      <td>1.0</td>\n",
              "    </tr>\n",
              "  </tbody>\n",
              "</table>\n",
              "</div>\n",
              "      <button class=\"colab-df-convert\" onclick=\"convertToInteractive('df-b6f1d8af-14bb-4afc-84b5-e16483cc6dd6')\"\n",
              "              title=\"Convert this dataframe to an interactive table.\"\n",
              "              style=\"display:none;\">\n",
              "        \n",
              "  <svg xmlns=\"http://www.w3.org/2000/svg\" height=\"24px\"viewBox=\"0 0 24 24\"\n",
              "       width=\"24px\">\n",
              "    <path d=\"M0 0h24v24H0V0z\" fill=\"none\"/>\n",
              "    <path d=\"M18.56 5.44l.94 2.06.94-2.06 2.06-.94-2.06-.94-.94-2.06-.94 2.06-2.06.94zm-11 1L8.5 8.5l.94-2.06 2.06-.94-2.06-.94L8.5 2.5l-.94 2.06-2.06.94zm10 10l.94 2.06.94-2.06 2.06-.94-2.06-.94-.94-2.06-.94 2.06-2.06.94z\"/><path d=\"M17.41 7.96l-1.37-1.37c-.4-.4-.92-.59-1.43-.59-.52 0-1.04.2-1.43.59L10.3 9.45l-7.72 7.72c-.78.78-.78 2.05 0 2.83L4 21.41c.39.39.9.59 1.41.59.51 0 1.02-.2 1.41-.59l7.78-7.78 2.81-2.81c.8-.78.8-2.07 0-2.86zM5.41 20L4 18.59l7.72-7.72 1.47 1.35L5.41 20z\"/>\n",
              "  </svg>\n",
              "      </button>\n",
              "      \n",
              "  <style>\n",
              "    .colab-df-container {\n",
              "      display:flex;\n",
              "      flex-wrap:wrap;\n",
              "      gap: 12px;\n",
              "    }\n",
              "\n",
              "    .colab-df-convert {\n",
              "      background-color: #E8F0FE;\n",
              "      border: none;\n",
              "      border-radius: 50%;\n",
              "      cursor: pointer;\n",
              "      display: none;\n",
              "      fill: #1967D2;\n",
              "      height: 32px;\n",
              "      padding: 0 0 0 0;\n",
              "      width: 32px;\n",
              "    }\n",
              "\n",
              "    .colab-df-convert:hover {\n",
              "      background-color: #E2EBFA;\n",
              "      box-shadow: 0px 1px 2px rgba(60, 64, 67, 0.3), 0px 1px 3px 1px rgba(60, 64, 67, 0.15);\n",
              "      fill: #174EA6;\n",
              "    }\n",
              "\n",
              "    [theme=dark] .colab-df-convert {\n",
              "      background-color: #3B4455;\n",
              "      fill: #D2E3FC;\n",
              "    }\n",
              "\n",
              "    [theme=dark] .colab-df-convert:hover {\n",
              "      background-color: #434B5C;\n",
              "      box-shadow: 0px 1px 3px 1px rgba(0, 0, 0, 0.15);\n",
              "      filter: drop-shadow(0px 1px 2px rgba(0, 0, 0, 0.3));\n",
              "      fill: #FFFFFF;\n",
              "    }\n",
              "  </style>\n",
              "\n",
              "      <script>\n",
              "        const buttonEl =\n",
              "          document.querySelector('#df-b6f1d8af-14bb-4afc-84b5-e16483cc6dd6 button.colab-df-convert');\n",
              "        buttonEl.style.display =\n",
              "          google.colab.kernel.accessAllowed ? 'block' : 'none';\n",
              "\n",
              "        async function convertToInteractive(key) {\n",
              "          const element = document.querySelector('#df-b6f1d8af-14bb-4afc-84b5-e16483cc6dd6');\n",
              "          const dataTable =\n",
              "            await google.colab.kernel.invokeFunction('convertToInteractive',\n",
              "                                                     [key], {});\n",
              "          if (!dataTable) return;\n",
              "\n",
              "          const docLinkHtml = 'Like what you see? Visit the ' +\n",
              "            '<a target=\"_blank\" href=https://colab.research.google.com/notebooks/data_table.ipynb>data table notebook</a>'\n",
              "            + ' to learn more about interactive tables.';\n",
              "          element.innerHTML = '';\n",
              "          dataTable['output_type'] = 'display_data';\n",
              "          await google.colab.output.renderOutput(dataTable, element);\n",
              "          const docLink = document.createElement('div');\n",
              "          docLink.innerHTML = docLinkHtml;\n",
              "          element.appendChild(docLink);\n",
              "        }\n",
              "      </script>\n",
              "    </div>\n",
              "  </div>\n",
              "  "
            ]
          },
          "metadata": {},
          "execution_count": 72
        }
      ]
    },
    {
      "cell_type": "code",
      "source": [
        "df.info()"
      ],
      "metadata": {
        "colab": {
          "base_uri": "https://localhost:8080/"
        },
        "id": "ydKcy3sGc5fW",
        "outputId": "5c2011f8-2bb6-43ac-b2e4-477892f209ce"
      },
      "execution_count": null,
      "outputs": [
        {
          "output_type": "stream",
          "name": "stdout",
          "text": [
            "<class 'pandas.core.frame.DataFrame'>\n",
            "RangeIndex: 17965 entries, 0 to 17964\n",
            "Data columns (total 9 columns):\n",
            " #   Column        Non-Null Count  Dtype  \n",
            "---  ------        --------------  -----  \n",
            " 0   model         17965 non-null  object \n",
            " 1   year          17965 non-null  int64  \n",
            " 2   price         17965 non-null  int64  \n",
            " 3   transmission  17965 non-null  object \n",
            " 4   mileage       17965 non-null  int64  \n",
            " 5   fuelType      17965 non-null  object \n",
            " 6   tax           17965 non-null  int64  \n",
            " 7   mpg           17965 non-null  float64\n",
            " 8   engineSize    17965 non-null  float64\n",
            "dtypes: float64(2), int64(4), object(3)\n",
            "memory usage: 1.2+ MB\n"
          ]
        }
      ]
    },
    {
      "cell_type": "code",
      "source": [
        "def missing_value(x):\n",
        "  return x.isna().mean()\n",
        "\n",
        "missing_value(df)"
      ],
      "metadata": {
        "colab": {
          "base_uri": "https://localhost:8080/"
        },
        "id": "ZqrzD6N6e-pB",
        "outputId": "9fbc8c0c-ac9b-4324-979c-a5c24a92a877"
      },
      "execution_count": null,
      "outputs": [
        {
          "output_type": "execute_result",
          "data": {
            "text/plain": [
              "model           0.0\n",
              "year            0.0\n",
              "price           0.0\n",
              "transmission    0.0\n",
              "mileage         0.0\n",
              "fuelType        0.0\n",
              "tax             0.0\n",
              "mpg             0.0\n",
              "engineSize      0.0\n",
              "dtype: float64"
            ]
          },
          "metadata": {},
          "execution_count": 74
        }
      ]
    },
    {
      "cell_type": "markdown",
      "source": [
        "В нашем датасете имеется 17965 записей, пропусков нет"
      ],
      "metadata": {
        "id": "I9ui4gOie2b9"
      }
    },
    {
      "cell_type": "code",
      "source": [
        "train, test = train_test_split(df,test_size=0.4,random_state=22)"
      ],
      "metadata": {
        "id": "AYJuq_Lcc7ag"
      },
      "execution_count": null,
      "outputs": []
    },
    {
      "cell_type": "markdown",
      "source": [
        "Для обучение модели на основе Catboost необходимо также наличие валидационной выборки. Создадим ее путем разбиения тестовой выборки на равные части"
      ],
      "metadata": {
        "id": "PAM_RfnKfOLE"
      }
    },
    {
      "cell_type": "code",
      "source": [
        "val, test = train_test_split(test, test_size=0.5, random_state=22)"
      ],
      "metadata": {
        "id": "WBO7GAjxePsZ"
      },
      "execution_count": null,
      "outputs": []
    },
    {
      "cell_type": "code",
      "source": [
        "print(f'Размер выборки train: {len(train) / len(df)}') \n",
        "print(f'Размер выборки test: {len(test) / len(df)}') \n",
        "print(f'Размер выборки val: {len(val) / len(df)}') "
      ],
      "metadata": {
        "colab": {
          "base_uri": "https://localhost:8080/"
        },
        "id": "FDIlC4_seXTc",
        "outputId": "748be8cb-b059-47c3-ad2c-93cba186d992"
      },
      "execution_count": null,
      "outputs": [
        {
          "output_type": "stream",
          "name": "stdout",
          "text": [
            "Размер выборки train: 0.6\n",
            "Размер выборки test: 0.2\n",
            "Размер выборки val: 0.2\n"
          ]
        }
      ]
    },
    {
      "cell_type": "markdown",
      "source": [
        "Создание модели с помощью CatBoostRegressor требует указания категориальных переменных, имеющихся в датасете. Для удобства создадим список таких значений отдельно"
      ],
      "metadata": {
        "id": "1h9h2Uozfr1D"
      }
    },
    {
      "cell_type": "code",
      "source": [
        "X = ['model', 'year', 'transmission', 'mileage', 'fuelType', 'tax',\n",
        "       'mpg', 'engineSize']\n",
        "\n",
        "y = ['price']\n",
        "\n",
        "cat_features = ['model', 'transmission', 'fuelType']"
      ],
      "metadata": {
        "id": "Ytg5Eo6BeZN3"
      },
      "execution_count": null,
      "outputs": []
    },
    {
      "cell_type": "markdown",
      "source": [
        "Для оценки точности построения модели будет использовать MAPE (mean absolute percentage error)"
      ],
      "metadata": {
        "id": "QEmQkAqIgN1M"
      }
    },
    {
      "cell_type": "code",
      "source": [
        "params = {\n",
        "          'cat_features': cat_features,\n",
        "          'eval_metric': 'MAPE',\n",
        "          'random_seed':22,\n",
        "          'verbose':100}"
      ],
      "metadata": {
        "id": "lbRPnAbrgCl5"
      },
      "execution_count": null,
      "outputs": []
    },
    {
      "cell_type": "code",
      "source": [
        "model = CatBoostRegressor(**params)"
      ],
      "metadata": {
        "id": "B_bqaRD6gEjp"
      },
      "execution_count": null,
      "outputs": []
    },
    {
      "cell_type": "code",
      "source": [
        "model.fit(train[X],train[y],eval_set=(val[X],val[y]))"
      ],
      "metadata": {
        "colab": {
          "base_uri": "https://localhost:8080/"
        },
        "id": "icXu4iCHgEqe",
        "outputId": "98dd56fe-d23e-40dc-9ccf-cb4242c0ef76"
      },
      "execution_count": null,
      "outputs": [
        {
          "output_type": "stream",
          "name": "stdout",
          "text": [
            "Learning rate set to 0.073962\n",
            "0:\tlearn: 0.3706158\ttest: 0.3453981\tbest: 0.3453981 (0)\ttotal: 14.4ms\tremaining: 14.4s\n",
            "100:\tlearn: 0.0804583\ttest: 0.0781916\tbest: 0.0781916 (100)\ttotal: 993ms\tremaining: 8.84s\n",
            "200:\tlearn: 0.0747701\ttest: 0.0735637\tbest: 0.0735637 (200)\ttotal: 1.92s\tremaining: 7.62s\n",
            "300:\tlearn: 0.0713295\ttest: 0.0714240\tbest: 0.0714240 (300)\ttotal: 2.86s\tremaining: 6.65s\n",
            "400:\tlearn: 0.0691345\ttest: 0.0700753\tbest: 0.0700743 (399)\ttotal: 3.87s\tremaining: 5.78s\n",
            "500:\tlearn: 0.0674136\ttest: 0.0693248\tbest: 0.0693248 (500)\ttotal: 4.92s\tremaining: 4.89s\n",
            "600:\tlearn: 0.0660123\ttest: 0.0685131\tbest: 0.0685131 (600)\ttotal: 5.93s\tremaining: 3.94s\n",
            "700:\tlearn: 0.0651711\ttest: 0.0681597\tbest: 0.0681597 (700)\ttotal: 6.98s\tremaining: 2.98s\n",
            "800:\tlearn: 0.0643557\ttest: 0.0677454\tbest: 0.0677396 (797)\ttotal: 7.99s\tremaining: 1.99s\n",
            "900:\tlearn: 0.0636447\ttest: 0.0674690\tbest: 0.0674594 (898)\ttotal: 8.95s\tremaining: 983ms\n",
            "999:\tlearn: 0.0628771\ttest: 0.0671218\tbest: 0.0671211 (997)\ttotal: 9.93s\tremaining: 0us\n",
            "\n",
            "bestTest = 0.06712114367\n",
            "bestIteration = 997\n",
            "\n",
            "Shrink model to first 998 iterations.\n"
          ]
        },
        {
          "output_type": "execute_result",
          "data": {
            "text/plain": [
              "<catboost.core.CatBoostRegressor at 0x7f91bb2be910>"
            ]
          },
          "metadata": {},
          "execution_count": 81
        }
      ]
    },
    {
      "cell_type": "markdown",
      "source": [
        "Изменим уровень обучения чтобы добиться минимизации ошибки:"
      ],
      "metadata": {
        "id": "q_QR0e0qjdA2"
      }
    },
    {
      "cell_type": "code",
      "source": [
        "params = {\n",
        "          'cat_features': cat_features,\n",
        "          'eval_metric': 'MAPE',\n",
        "          'random_seed':22,\n",
        "          'verbose':100,\n",
        "          'learning_rate': 0.1}"
      ],
      "metadata": {
        "id": "l0mD-dSIgEvV"
      },
      "execution_count": null,
      "outputs": []
    },
    {
      "cell_type": "code",
      "source": [
        "model = CatBoostRegressor(**params)"
      ],
      "metadata": {
        "id": "EulEE7ycgEy3"
      },
      "execution_count": null,
      "outputs": []
    },
    {
      "cell_type": "code",
      "source": [
        "model.fit(train[X],train[y],eval_set=(val[X],val[y]))"
      ],
      "metadata": {
        "colab": {
          "base_uri": "https://localhost:8080/"
        },
        "id": "s9DS1jt7gE14",
        "outputId": "a9475626-cc2a-4ad6-f550-44786ce47aff"
      },
      "execution_count": null,
      "outputs": [
        {
          "output_type": "stream",
          "name": "stdout",
          "text": [
            "0:\tlearn: 0.3631221\ttest: 0.3384537\tbest: 0.3384537 (0)\ttotal: 12.3ms\tremaining: 12.3s\n",
            "100:\tlearn: 0.0774207\ttest: 0.0761450\tbest: 0.0761450 (100)\ttotal: 957ms\tremaining: 8.51s\n",
            "200:\tlearn: 0.0718949\ttest: 0.0720437\tbest: 0.0720260 (199)\ttotal: 1.92s\tremaining: 7.62s\n",
            "300:\tlearn: 0.0688527\ttest: 0.0702875\tbest: 0.0702875 (300)\ttotal: 2.93s\tremaining: 6.8s\n",
            "400:\tlearn: 0.0669383\ttest: 0.0692637\tbest: 0.0692637 (400)\ttotal: 3.87s\tremaining: 5.78s\n",
            "500:\tlearn: 0.0654111\ttest: 0.0685624\tbest: 0.0685624 (500)\ttotal: 4.83s\tremaining: 4.82s\n",
            "600:\tlearn: 0.0641835\ttest: 0.0681729\tbest: 0.0681652 (595)\ttotal: 5.93s\tremaining: 3.94s\n",
            "700:\tlearn: 0.0631663\ttest: 0.0678430\tbest: 0.0678430 (700)\ttotal: 6.97s\tremaining: 2.97s\n",
            "800:\tlearn: 0.0621088\ttest: 0.0675035\tbest: 0.0675035 (800)\ttotal: 8.04s\tremaining: 2s\n",
            "900:\tlearn: 0.0614379\ttest: 0.0673258\tbest: 0.0673195 (883)\ttotal: 9.03s\tremaining: 992ms\n",
            "999:\tlearn: 0.0607562\ttest: 0.0671500\tbest: 0.0671500 (999)\ttotal: 9.99s\tremaining: 0us\n",
            "\n",
            "bestTest = 0.06714996446\n",
            "bestIteration = 999\n",
            "\n"
          ]
        },
        {
          "output_type": "execute_result",
          "data": {
            "text/plain": [
              "<catboost.core.CatBoostRegressor at 0x7f91bad03950>"
            ]
          },
          "metadata": {},
          "execution_count": 84
        }
      ]
    },
    {
      "cell_type": "markdown",
      "source": [
        "Изменение уровня обучения практически никак не повлияло на ошибку. Теперь вычислим ошибку на предсказанных данных: "
      ],
      "metadata": {
        "id": "6PQG-zKFpOl2"
      }
    },
    {
      "cell_type": "code",
      "source": [
        "test['price_pred'] = model.predict(test[X])"
      ],
      "metadata": {
        "id": "Lpz-_5DSgE42"
      },
      "execution_count": null,
      "outputs": []
    },
    {
      "cell_type": "markdown",
      "source": [
        ""
      ],
      "metadata": {
        "id": "_kXMopsQjvdB"
      }
    },
    {
      "cell_type": "code",
      "source": [
        "def error(y_true,y_pred):\n",
        "  print(mean_absolute_error(y_true,y_pred))\n",
        "  print(mean_absolute_percentage_error(y_true,y_pred))\n",
        "\n",
        "error(test['price'],test['price_pred'])"
      ],
      "metadata": {
        "colab": {
          "base_uri": "https://localhost:8080/"
        },
        "id": "2907SJ1jgE7h",
        "outputId": "cfaa744b-5a74-42e5-d34a-dba49d246fcf"
      },
      "execution_count": null,
      "outputs": [
        {
          "output_type": "stream",
          "name": "stdout",
          "text": [
            "808.8604429624969\n",
            "0.06944714231960757\n"
          ]
        }
      ]
    },
    {
      "cell_type": "markdown",
      "source": [
        "Попробуем улучшить результаты обучив модель на всех данных (train + val). В параметрах указываем лучшую итерацию которая была на предыдущей модели."
      ],
      "metadata": {
        "id": "kkuvXQpBkopj"
      }
    },
    {
      "cell_type": "code",
      "source": [
        "train_full = pd.concat([train,val])"
      ],
      "metadata": {
        "id": "uXF8ppy_k42R"
      },
      "execution_count": null,
      "outputs": []
    },
    {
      "cell_type": "code",
      "source": [
        "params = {\n",
        "          'cat_features': cat_features,\n",
        "          'eval_metric': 'MAPE',\n",
        "          'random_seed':22,\n",
        "          'verbose':100,\n",
        "          'learning_rate': 0.1,\n",
        "          'iterations': model.best_iteration_ + 1}"
      ],
      "metadata": {
        "id": "vIGIArQDgFBa"
      },
      "execution_count": null,
      "outputs": []
    },
    {
      "cell_type": "code",
      "source": [
        "model_full = CatBoostRegressor(**params)"
      ],
      "metadata": {
        "id": "eU1VMD_2gFD3"
      },
      "execution_count": null,
      "outputs": []
    },
    {
      "cell_type": "code",
      "source": [
        "model_full.fit(train_full[X], train_full[y])"
      ],
      "metadata": {
        "colab": {
          "base_uri": "https://localhost:8080/"
        },
        "id": "zvrEQpIAlWLi",
        "outputId": "c51c4bb3-5d24-4335-efe5-def51df106dd"
      },
      "execution_count": null,
      "outputs": [
        {
          "output_type": "stream",
          "name": "stdout",
          "text": [
            "0:\tlearn: 0.3571673\ttotal: 12.6ms\tremaining: 12.5s\n",
            "100:\tlearn: 0.0764948\ttotal: 1.06s\tremaining: 9.46s\n",
            "200:\tlearn: 0.0711291\ttotal: 2.13s\tremaining: 8.47s\n",
            "300:\tlearn: 0.0682542\ttotal: 3.22s\tremaining: 7.49s\n",
            "400:\tlearn: 0.0665775\ttotal: 4.29s\tremaining: 6.41s\n",
            "500:\tlearn: 0.0653870\ttotal: 5.38s\tremaining: 5.36s\n",
            "600:\tlearn: 0.0643657\ttotal: 6.49s\tremaining: 4.31s\n",
            "700:\tlearn: 0.0634775\ttotal: 7.64s\tremaining: 3.26s\n",
            "800:\tlearn: 0.0627155\ttotal: 8.8s\tremaining: 2.19s\n",
            "900:\tlearn: 0.0620276\ttotal: 9.91s\tremaining: 1.09s\n",
            "999:\tlearn: 0.0611643\ttotal: 11s\tremaining: 0us\n"
          ]
        },
        {
          "output_type": "execute_result",
          "data": {
            "text/plain": [
              "<catboost.core.CatBoostRegressor at 0x7f91b816a9d0>"
            ]
          },
          "metadata": {},
          "execution_count": 90
        }
      ]
    },
    {
      "cell_type": "code",
      "source": [
        "test['price_pred_full'] = model_full.predict(test[X])"
      ],
      "metadata": {
        "id": "uhx4Xeiilh0u"
      },
      "execution_count": null,
      "outputs": []
    },
    {
      "cell_type": "code",
      "source": [
        "error(test['price'],test['price_pred_full'])"
      ],
      "metadata": {
        "colab": {
          "base_uri": "https://localhost:8080/"
        },
        "id": "qC9KAemDlvDX",
        "outputId": "f4a62577-9c0f-4736-c457-04df29c188fb"
      },
      "execution_count": null,
      "outputs": [
        {
          "output_type": "stream",
          "name": "stdout",
          "text": [
            "794.8811274976246\n",
            "0.0680132414056946\n"
          ]
        }
      ]
    },
    {
      "cell_type": "markdown",
      "source": [
        "Изменим функцию потерь на MAE (по умолчанию установлена RMSE)"
      ],
      "metadata": {
        "id": "Vx5FtHNbnh87"
      }
    },
    {
      "cell_type": "code",
      "source": [
        "params = {\n",
        "          'cat_features': cat_features,\n",
        "          'eval_metric': 'MAPE',\n",
        "          'random_seed':22,\n",
        "          'verbose':100,\n",
        "          'learning_rate': 0.1,\n",
        "          'loss_function': 'MAE'}"
      ],
      "metadata": {
        "id": "4Qem072Rl9xP"
      },
      "execution_count": null,
      "outputs": []
    },
    {
      "cell_type": "code",
      "source": [
        "model_mae = CatBoostRegressor(**params)"
      ],
      "metadata": {
        "id": "Y83bb1gTl9xQ"
      },
      "execution_count": null,
      "outputs": []
    },
    {
      "cell_type": "code",
      "source": [
        "model_mae.fit(train_full[X], train_full[y])"
      ],
      "metadata": {
        "colab": {
          "base_uri": "https://localhost:8080/"
        },
        "outputId": "8bbdb174-eae1-47c2-9467-65ccfb5cbbd6",
        "id": "xqN5-aLUl9xQ"
      },
      "execution_count": null,
      "outputs": [
        {
          "output_type": "stream",
          "name": "stdout",
          "text": [
            "0:\tlearn: 0.3217110\ttotal: 15ms\tremaining: 15s\n",
            "100:\tlearn: 0.0729539\ttotal: 1.3s\tremaining: 11.6s\n",
            "200:\tlearn: 0.0672376\ttotal: 2.58s\tremaining: 10.2s\n",
            "300:\tlearn: 0.0649762\ttotal: 3.81s\tremaining: 8.84s\n",
            "400:\tlearn: 0.0636559\ttotal: 5.08s\tremaining: 7.58s\n",
            "500:\tlearn: 0.0627583\ttotal: 6.3s\tremaining: 6.28s\n",
            "600:\tlearn: 0.0620030\ttotal: 7.51s\tremaining: 4.99s\n",
            "700:\tlearn: 0.0613583\ttotal: 8.74s\tremaining: 3.73s\n",
            "800:\tlearn: 0.0609354\ttotal: 9.97s\tremaining: 2.48s\n",
            "900:\tlearn: 0.0604218\ttotal: 11.2s\tremaining: 1.23s\n",
            "999:\tlearn: 0.0600654\ttotal: 12.3s\tremaining: 0us\n"
          ]
        },
        {
          "output_type": "execute_result",
          "data": {
            "text/plain": [
              "<catboost.core.CatBoostRegressor at 0x7f91bad03d10>"
            ]
          },
          "metadata": {},
          "execution_count": 96
        }
      ]
    },
    {
      "cell_type": "code",
      "source": [
        "test['price_pred_full_MAE'] = model_mae.predict(test[X])"
      ],
      "metadata": {
        "id": "hIzWc2OcmNA6"
      },
      "execution_count": null,
      "outputs": []
    },
    {
      "cell_type": "code",
      "source": [
        "error(test['price'],test['price_pred_full_MAE'])"
      ],
      "metadata": {
        "colab": {
          "base_uri": "https://localhost:8080/"
        },
        "id": "TTl7GU3XmiVo",
        "outputId": "190a25fb-6a2c-4eed-ab8f-50830f14fb78"
      },
      "execution_count": null,
      "outputs": [
        {
          "output_type": "stream",
          "name": "stdout",
          "text": [
            "788.1333002293322\n",
            "0.06734412438868867\n"
          ]
        }
      ]
    },
    {
      "cell_type": "markdown",
      "source": [
        "Вывод: подбором размера обучающей выборки и функции потерь возможно минимизировать ошибку на тестовых данных"
      ],
      "metadata": {
        "id": "s0OTOU0MmoSI"
      }
    }
  ]
}